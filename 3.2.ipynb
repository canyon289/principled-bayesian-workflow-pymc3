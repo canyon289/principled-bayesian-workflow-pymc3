{
 "cells": [
  {
   "cell_type": "code",
   "execution_count": 3,
   "metadata": {},
   "outputs": [
    {
     "name": "stdout",
     "output_type": "stream",
     "text": [
      "Populating the interactive namespace from numpy and matplotlib\n",
      "3.5\n",
      "1.0.2\n"
     ]
    }
   ],
   "source": [
    "%pylab inline\n",
    "import pymc3 as pm\n",
    "import pandas as pd\n",
    "import scipy.stats as stats\n",
    "import seaborn as sns\n",
    "import theano.tensor as T\n",
    "import theano\n",
    "plt.style.use(['seaborn-talk'])\n",
    "plt.rcParams[\"figure.figsize\"] = (10,8)\n",
    "print(pm.__version__)\n",
    "print(theano.__version__)"
   ]
  },
  {
   "cell_type": "code",
   "execution_count": 33,
   "metadata": {},
   "outputs": [],
   "source": [
    "c_light =\"#DCBCBC\"\n",
    "c_light_highlight =\"#C79999\"\n",
    "c_mid =\"#B97C7C\"\n",
    "c_mid_highlight =\"#A25050\"\n",
    "c_dark =\"#8F2727\"\n",
    "c_dark_highlight =\"#7C0000\""
   ]
  },
  {
   "cell_type": "code",
   "execution_count": 72,
   "metadata": {},
   "outputs": [],
   "source": [
    "generative_ensemble2 = pm.Model()\n",
    "\n",
    "N = 1000\n",
    "R = 1000\n",
    "\n",
    "with generative_ensemble2:\n",
    "    theta = pm.Beta(name=\"theta\", alpha = 1, beta = 1, shape = (N,))\n",
    "    lambda_ = pm.HalfNormal(name=\"lambda\", sd = 6.44787, shape = (N,))\n",
    "    \n",
    "    failure = pm.Bernoulli(name=\"failure\", logit_p=theta, shape = (N,))\n",
    "    rate = pm.Poisson(name=\"rate\", mu = lambda_, shape = (N,))\n",
    "        \n",
    "    y = pm.Deterministic(\"y\", rate * (1 - failure))"
   ]
  },
  {
   "cell_type": "code",
   "execution_count": 73,
   "metadata": {},
   "outputs": [],
   "source": [
    "with generative_ensemble2:\n",
    "    trace = pm.sample_prior_predictive(samples=R)"
   ]
  },
  {
   "cell_type": "code",
   "execution_count": 77,
   "metadata": {},
   "outputs": [
    {
     "data": {
      "text/plain": [
       "array([[0, 1, 0, ..., 1, 0, 1],\n",
       "       [1, 1, 1, ..., 1, 1, 0],\n",
       "       [1, 0, 1, ..., 0, 1, 1],\n",
       "       ...,\n",
       "       [0, 1, 1, ..., 1, 0, 1],\n",
       "       [1, 1, 0, ..., 0, 1, 1],\n",
       "       [1, 1, 1, ..., 0, 0, 1]])"
      ]
     },
     "execution_count": 77,
     "metadata": {},
     "output_type": "execute_result"
    }
   ],
   "source": [
    "trace[\"failure\"]"
   ]
  },
  {
   "cell_type": "code",
   "execution_count": 31,
   "metadata": {},
   "outputs": [
    {
     "data": {
      "text/plain": [
       "array([[0.79762782, 0.89855033, 0.98001449, ..., 0.197955  , 0.89200127,\n",
       "        0.25257009],\n",
       "       [0.72819473, 0.94294051, 0.56727196, ..., 0.36194756, 0.04095316,\n",
       "        0.84411106],\n",
       "       [0.15590906, 0.88257809, 0.59958161, ..., 0.04490845, 0.41727159,\n",
       "        0.61252831],\n",
       "       ...,\n",
       "       [0.7793589 , 0.53479385, 0.96777363, ..., 0.92882499, 0.36562626,\n",
       "        0.74279071],\n",
       "       [0.15131182, 0.04563164, 0.23064801, ..., 0.02572568, 0.19913516,\n",
       "        0.5447918 ],\n",
       "       [0.7794641 , 0.12856585, 0.94439195, ..., 0.92213073, 0.74222588,\n",
       "        0.42534542]])"
      ]
     },
     "execution_count": 31,
     "metadata": {},
     "output_type": "execute_result"
    }
   ],
   "source": [
    "trace[\"theta\"]"
   ]
  },
  {
   "cell_type": "code",
   "execution_count": 75,
   "metadata": {},
   "outputs": [
    {
     "data": {
      "text/plain": [
       "array([[ 3,  0,  5, ...,  0,  1,  0],\n",
       "       [ 0,  0,  0, ...,  0,  0,  4],\n",
       "       [ 0,  3,  0, ...,  2,  0,  0],\n",
       "       ...,\n",
       "       [ 5,  0,  0, ...,  0,  9,  0],\n",
       "       [ 0,  0,  1, ..., 13,  0,  0],\n",
       "       [ 0,  0,  0, ...,  3,  1,  0]])"
      ]
     },
     "execution_count": 75,
     "metadata": {},
     "output_type": "execute_result"
    }
   ],
   "source": [
    "simu_ys = trace[\"y\"]\n",
    "simu_ys"
   ]
  },
  {
   "cell_type": "code",
   "execution_count": 76,
   "metadata": {},
   "outputs": [
    {
     "data": {
      "image/png": "[encoded data removed]",
      "text/plain": [
       "<matplotlib.figure.Figure at 0x7f687d4de438>"
      ]
     },
     "metadata": {},
     "output_type": "display_data"
    }
   ],
   "source": [
    "x_max = 30\n",
    "bins = np.arange(0 ,x_max)\n",
    "bin_interp = np.linspace(0,x_max-1,num=(x_max-1)*10)\n",
    "hists = np.apply_along_axis(lambda a: np.histogram(a, bins=bins)[0], 1, simu_ys)\n",
    "\n",
    "prctiles = np.percentile(hists,np.linspace(10,90,num=9),axis=0)\n",
    "prctiles_interp = np.repeat(prctiles, 10,axis=1)\n",
    "\n",
    "for i,color in enumerate([c_light,c_light_highlight,c_mid,c_mid_highlight]):\n",
    "    plt.fill_between(bin_interp,prctiles_interp[i,:],prctiles_interp[-1-i,:],alpha=1.0,color=color);\n",
    "\n",
    "\n",
    "plt.plot(bin_interp,prctiles_interp[4,:],color=c_dark_highlight);\n",
    "plt.axvline(x=25,ls='-',lw=2,color='k');\n",
    "plt.xlabel('y');\n",
    "plt.title('Prior predictive distribution');"
   ]
  },
  {
   "cell_type": "code",
   "execution_count": 57,
   "metadata": {},
   "outputs": [
    {
     "data": {
      "text/plain": [
       "(500, 1000)"
      ]
     },
     "execution_count": 57,
     "metadata": {},
     "output_type": "execute_result"
    }
   ],
   "source": [
    "simu_ys.shape"
   ]
  }
 ],
 "metadata": {
  "kernelspec": {
   "display_name": "Python 3",
   "language": "python",
   "name": "python3"
  },
  "language_info": {
   "codemirror_mode": {
    "name": "ipython",
    "version": 3
   },
   "file_extension": ".py",
   "mimetype": "text/x-python",
   "name": "python",
   "nbconvert_exporter": "python",
   "pygments_lexer": "ipython3",
   "version": "3.6.2"
  }
 },
 "nbformat": 4,
 "nbformat_minor": 2
}
