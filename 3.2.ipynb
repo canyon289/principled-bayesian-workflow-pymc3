{
 "cells": [
  {
   "cell_type": "code",
   "execution_count": 3,
   "metadata": {},
   "outputs": [
    {
     "name": "stdout",
     "output_type": "stream",
     "text": [
      "Populating the interactive namespace from numpy and matplotlib\n",
      "3.5\n",
      "1.0.2\n"
     ]
    }
   ],
   "source": [
    "%pylab inline\n",
    "import pymc3 as pm\n",
    "import pandas as pd\n",
    "import scipy.stats as stats\n",
    "import seaborn as sns\n",
    "import theano.tensor as T\n",
    "import theano\n",
    "plt.style.use(['seaborn-talk'])\n",
    "plt.rcParams[\"figure.figsize\"] = (10,8)\n",
    "print(pm.__version__)\n",
    "print(theano.__version__)"
   ]
  },
  {
   "cell_type": "code",
   "execution_count": 33,
   "metadata": {},
   "outputs": [],
   "source": [
    "c_light =\"#DCBCBC\"\n",
    "c_light_highlight =\"#C79999\"\n",
    "c_mid =\"#B97C7C\"\n",
    "c_mid_highlight =\"#A25050\"\n",
    "c_dark =\"#8F2727\"\n",
    "c_dark_highlight =\"#7C0000\""
   ]
  },
  {
   "cell_type": "code",
   "execution_count": 126,
   "metadata": {},
   "outputs": [],
   "source": [
    "generative_ensemble2 = pm.Model()\n",
    "\n",
    "N = 1000\n",
    "R = 1000\n",
    "\n",
    "with generative_ensemble2:\n",
    "    theta = pm.Beta(name=\"theta\", alpha = 1, beta = 1)\n",
    "    lambda_ = pm.HalfNormal(name=\"lambda\", sd = 6.44787)\n",
    "    \n",
    "    failure = pm.Bernoulli(name=\"failure\", p=theta, shape = (N,))\n",
    "    rate = pm.Poisson(name=\"rate\", mu = lambda_, shape = (N,))\n",
    "        \n",
    "    y = pm.Deterministic(\"y\", rate * (1 - failure))"
   ]
  },
  {
   "cell_type": "code",
   "execution_count": 127,
   "metadata": {},
   "outputs": [],
   "source": [
    "with generative_ensemble2:\n",
    "    trace = pm.sample_prior_predictive(samples=R)"
   ]
  },
  {
   "cell_type": "code",
   "execution_count": 128,
   "metadata": {},
   "outputs": [
    {
     "data": {
      "text/plain": [
       "array([[0, 1, 0, ..., 1, 0, 1],\n",
       "       [0, 1, 0, ..., 0, 0, 1],\n",
       "       [0, 1, 0, ..., 0, 0, 0],\n",
       "       ...,\n",
       "       [1, 1, 0, ..., 1, 0, 1],\n",
       "       [1, 1, 1, ..., 1, 1, 0],\n",
       "       [1, 1, 0, ..., 0, 0, 0]])"
      ]
     },
     "execution_count": 128,
     "metadata": {},
     "output_type": "execute_result"
    }
   ],
   "source": [
    "trace[\"failure\"]"
   ]
  },
  {
   "cell_type": "code",
   "execution_count": 131,
   "metadata": {},
   "outputs": [
    {
     "data": {
      "text/plain": [
       "array([0.91163146, 0.77897613, 0.04778361, 0.04745637, 0.44676625,\n",
       "       0.15147869, 0.65363818, 0.68514502, 0.73831171, 0.57090904])"
      ]
     },
     "execution_count": 131,
     "metadata": {},
     "output_type": "execute_result"
    }
   ],
   "source": [
    "trace[\"theta\"][:10]"
   ]
  },
  {
   "cell_type": "code",
   "execution_count": 132,
   "metadata": {},
   "outputs": [
    {
     "data": {
      "text/plain": [
       "array([ 4.41818282,  4.23146037,  1.76734282,  8.89393277,  0.24634094,\n",
       "        4.25726717,  1.753186  , 14.26473381,  3.95300948,  2.65644416])"
      ]
     },
     "execution_count": 132,
     "metadata": {},
     "output_type": "execute_result"
    }
   ],
   "source": [
    "trace[\"lambda\"][:10]"
   ]
  },
  {
   "cell_type": "code",
   "execution_count": 133,
   "metadata": {},
   "outputs": [
    {
     "data": {
      "text/plain": [
       "array([[5, 0, 1, ..., 0, 2, 0],\n",
       "       [4, 0, 4, ..., 6, 7, 0],\n",
       "       [4, 0, 2, ..., 5, 5, 4],\n",
       "       ...,\n",
       "       [0, 0, 1, ..., 0, 0, 0],\n",
       "       [0, 0, 0, ..., 0, 0, 4],\n",
       "       [0, 0, 5, ..., 3, 8, 5]])"
      ]
     },
     "execution_count": 133,
     "metadata": {},
     "output_type": "execute_result"
    }
   ],
   "source": [
    "simu_ys = trace[\"y\"]\n",
    "simu_ys"
   ]
  },
  {
   "cell_type": "code",
   "execution_count": 134,
   "metadata": {},
   "outputs": [
    {
     "data": {
      "text/plain": [
       "277.44220255577557"
      ]
     },
     "execution_count": 134,
     "metadata": {},
     "output_type": "execute_result"
    }
   ],
   "source": [
    "np.count_nonzero(simu_ys, axis=0).std()"
   ]
  },
  {
   "cell_type": "code",
   "execution_count": 135,
   "metadata": {},
   "outputs": [
    {
     "data": {
      "image/png": "[encoded data removed]",
      "text/plain": [
       "<matplotlib.figure.Figure at 0x7f6879631390>"
      ]
     },
     "metadata": {},
     "output_type": "display_data"
    }
   ],
   "source": [
    "x_max = 30\n",
    "bins = np.arange(0 ,x_max)\n",
    "bin_interp = np.linspace(0,x_max-1,num=(x_max-1)*10)\n",
    "hists = np.apply_along_axis(lambda a: np.histogram(a, bins=bins)[0], 1, simu_ys.T)\n",
    "\n",
    "prctiles = np.percentile(hists,np.linspace(10, 90,num=9),axis=0)\n",
    "prctiles_interp = np.repeat(prctiles, 10,axis=1)\n",
    "\n",
    "for i, color in enumerate([c_light, c_light_highlight, c_mid, c_mid_highlight]):\n",
    "    plt.fill_between(bin_interp, prctiles_interp[i, :],\n",
    "                     prctiles_interp[-1 - i, :],\n",
    "                     alpha = 1.0,\n",
    "                     color = color);\n",
    "\n",
    "\n",
    "plt.plot(bin_interp,prctiles_interp[4,:],color=c_dark_highlight);\n",
    "plt.axvline(x=25,ls='-',lw=2,color='k');\n",
    "plt.xlabel('y');\n",
    "plt.title('Prior predictive distribution');"
   ]
  }
 ],
 "metadata": {
  "kernelspec": {
   "display_name": "Python 3",
   "language": "python",
   "name": "python3"
  },
  "language_info": {
   "codemirror_mode": {
    "name": "ipython",
    "version": 3
   },
   "file_extension": ".py",
   "mimetype": "text/x-python",
   "name": "python",
   "nbconvert_exporter": "python",
   "pygments_lexer": "ipython3",
   "version": "3.6.2"
  }
 },
 "nbformat": 4,
 "nbformat_minor": 2
}
